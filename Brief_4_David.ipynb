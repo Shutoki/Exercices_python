{
 "cells": [
  {
   "cell_type": "markdown",
   "metadata": {},
   "source": [
    "Introduction to Programming"
   ]
  },
  {
   "cell_type": "code",
   "execution_count": 2,
   "metadata": {},
   "outputs": [
    {
     "name": "stdout",
     "output_type": "stream",
     "text": [
      "David Tran\n",
      "45 rue du Programmeur\n",
      "Pythonbourg, 313\n",
      "France\n"
     ]
    }
   ],
   "source": [
    "print('David Tran')\n",
    "print('45 rue du Programmeur')\n",
    "print('Pythonbourg, 313')\n",
    "print('France')"
   ]
  },
  {
   "cell_type": "code",
   "execution_count": 4,
   "metadata": {},
   "outputs": [
    {
     "name": "stdout",
     "output_type": "stream",
     "text": [
      "Hello David !\n"
     ]
    }
   ],
   "source": [
    "Name = input('Entrez votre Prénom : ')\n",
    "\n",
    "print('Hello', Name, '!')"
   ]
  },
  {
   "cell_type": "code",
   "execution_count": 5,
   "metadata": {},
   "outputs": [
    {
     "name": "stdout",
     "output_type": "stream",
     "text": [
      "100.0 cm\n"
     ]
    }
   ],
   "source": [
    "longueur = float(input('Entrez la longueur en cm: '))\n",
    "largeur = float(input('Entrez la largeur en cm: '))\n",
    "\n",
    "perimeter = longueur * largeur\n",
    "\n",
    "print(perimeter, 'cm')"
   ]
  },
  {
   "cell_type": "code",
   "execution_count": 8,
   "metadata": {},
   "outputs": [
    {
     "name": "stdout",
     "output_type": "stream",
     "text": [
      "49.431537320810676 acres\n"
     ]
    }
   ],
   "source": [
    "longueur_acre = float(input('Entrez la longueur en m: '))\n",
    "largeur_acre = float(input('Entrez la largeur en m: '))\n",
    "\n",
    "acre = 4046\n",
    "\n",
    "perimeter_acre = longueur_acre * largeur_acre / acre\n",
    "\n",
    "print(perimeter_acre, 'acres')"
   ]
  },
  {
   "cell_type": "code",
   "execution_count": 11,
   "metadata": {},
   "outputs": [
    {
     "name": "stdout",
     "output_type": "stream",
     "text": [
      "Votre total rendu est:  0.95\n"
     ]
    }
   ],
   "source": [
    "Small = 0.10\n",
    "Large = 0.25\n",
    "\n",
    "Small_qt = int(input('Nombre de bouteilles égales à ou moins de 1L : '))\n",
    "Large_qt = int(input('Nombre de bouteilles supérieures à 1L:'))\n",
    "\n",
    "Total_perçu = Small * Small_qt + Large * Large_qt\n",
    "\n",
    "print('Votre total rendu est: ', '%.2f' % Total_perçu)"
   ]
  },
  {
   "cell_type": "code",
   "execution_count": 14,
   "metadata": {},
   "outputs": [
    {
     "name": "stdout",
     "output_type": "stream",
     "text": [
      "Taxe:  4.00 |Pourboire:  3.60 |Total(Taxe et pourboire inclus):  27.60\n"
     ]
    }
   ],
   "source": [
    "prix_repas = float(input('Prix du repas: '))\n",
    "\n",
    "Taxe = prix_repas * 0.20\n",
    "\n",
    "Pourboire = prix_repas * 0.18\n",
    "\n",
    "Total = prix_repas + Taxe + Pourboire\n",
    "\n",
    "print('Taxe: ', '%.2f' %Taxe, '|Pourboire: ', '%.2f' %Pourboire, '|Total(Taxe et pourboire inclus): ', '%.2f' %Total)"
   ]
  },
  {
   "cell_type": "code",
   "execution_count": 20,
   "metadata": {},
   "outputs": [
    {
     "name": "stdout",
     "output_type": "stream",
     "text": [
      "3.0\n"
     ]
    }
   ],
   "source": [
    "n = int(input('Nombre entier positif: '))\n",
    "\n",
    "somme = n + 1 * n /2 #meilleur soluce : n * (n + 1) / 2\n",
    "\n",
    "print(somme)"
   ]
  },
  {
   "cell_type": "code",
   "execution_count": 24,
   "metadata": {},
   "outputs": [
    {
     "name": "stdout",
     "output_type": "stream",
     "text": [
      "Poids total gizmos:  224 grammes |Poids total widget:  825 grammes |Poids Total 1049 grammes\n"
     ]
    }
   ],
   "source": [
    "widget = 75\n",
    "gizmo = 112\n",
    "\n",
    "nb_widget = int(input('Nombre de widget en grammes: '))\n",
    "nb_gizmo = int(input('Nombre de gizmo en grammes: '))\n",
    "\n",
    "Poids_gizmo = nb_gizmo * gizmo\n",
    "Poids_widget = nb_widget * widget\n",
    "\n",
    "print('Poids total gizmos: ', Poids_gizmo, 'grammes', '|Poids total widget: ', Poids_widget, 'grammes', '|Poids Total', Poids_widget + Poids_gizmo, 'grammes')\n"
   ]
  },
  {
   "cell_type": "code",
   "execution_count": 25,
   "metadata": {},
   "outputs": [
    {
     "name": "stdout",
     "output_type": "stream",
     "text": [
      "Somme épargne après 1 an:  104.00 |2 ans:  108.16 |3 ans:  112.49\n"
     ]
    }
   ],
   "source": [
    "solde_compte = float(input('Solde compte: '))\n",
    "\n",
    "first_year = solde_compte * 1.04\n",
    "second_year = first_year * 1.04\n",
    "third_year = second_year * 1.04\n",
    "\n",
    "print('Somme épargne après', '1 an: ', '%.2f' % first_year, '|2 ans: ', '%.2f' % second_year, '|3 ans: ', '%.2f' % third_year)"
   ]
  },
  {
   "cell_type": "code",
   "execution_count": 26,
   "metadata": {},
   "outputs": [
    {
     "name": "stdout",
     "output_type": "stream",
     "text": [
      "7\n",
      "3\n",
      "10\n",
      "2.5\n",
      "1\n",
      "0.6989700043360189\n",
      "25\n"
     ]
    }
   ],
   "source": [
    "import math\n",
    "\n",
    "a = int(input('Entrer un nombre entier: '))\n",
    "b = int(input('Entrer un nombre entier: '))\n",
    "\n",
    "print(a + b)\n",
    "print(a - b)\n",
    "print(a * b)\n",
    "print(a / b)\n",
    "print(a % b)\n",
    "print(math.log10(a))\n",
    "print(a ** b)"
   ]
  },
  {
   "cell_type": "code",
   "execution_count": 28,
   "metadata": {},
   "outputs": [
    {
     "name": "stdout",
     "output_type": "stream",
     "text": [
      "Valeur en unité canadienne =  2.352 L/100km\n"
     ]
    }
   ],
   "source": [
    "mpg = float(input('Entrer valeur MPG: '))\n",
    "\n",
    "canadian = (2.352 / mpg) * 100\n",
    "\n",
    "print('Valeur en unité canadienne = ', canadian, 'L/100km')"
   ]
  },
  {
   "cell_type": "code",
   "execution_count": 43,
   "metadata": {},
   "outputs": [
    {
     "name": "stdout",
     "output_type": "stream",
     "text": [
      "Distance betwwen coord 1 and 2:  1544.7600 km\n"
     ]
    }
   ],
   "source": [
    "import math\n",
    "\n",
    "t1 = float(input('Input first coord (t1): '))\n",
    "g1 = float(input('Input first coord (g1): '))\n",
    "t2 = float(input('Input second coord (t2): '))\n",
    "g2 = float(input('Input second coord (g2): '))\n",
    "\n",
    "t1_convert = math.radians(t1)\n",
    "g1_convert = math.radians(g1)\n",
    "t2_convert = math.radians(t2)\n",
    "g2_convert = math.radians(g2)\n",
    "\n",
    "distance = 6371.01 * math.acos(math.sin(t1_convert) * math.sin(t2_convert) + math.cos(t1_convert) * math.cos(t2_convert) * math.cos(g1_convert - g2_convert))\n",
    "\n",
    "print('Distance betwwen coord 1 and 2: ', '%.4f' % distance, 'km')"
   ]
  },
  {
   "cell_type": "code",
   "execution_count": 47,
   "metadata": {},
   "outputs": [
    {
     "name": "stdout",
     "output_type": "stream",
     "text": [
      "Somme à échanger:  263 cents\n",
      "Rendre 1 toonies\n",
      "Rendre 0 loonies\n",
      "Rendre 2 quarters\n",
      "Rendre 1 dimes\n",
      "0 nickels\n",
      "Rendre 3 pennies\n"
     ]
    }
   ],
   "source": [
    "cent_amount = int(input('Somme insérée en centimes: '))\n",
    "print('Somme à échanger: ', cent_amount, 'cents')\n",
    "\n",
    "toonies = 200\n",
    "loonies = 100\n",
    "quarter = 25\n",
    "dime = 10\n",
    "nickel = 5\n",
    "\n",
    "print('Rendre', cent_amount // toonies, 'toonies')\n",
    "cent_amount = cent_amount % toonies\n",
    "\n",
    "print('Rendre', cent_amount // loonies, 'loonies')\n",
    "cent_amount = cent_amount % loonies\n",
    "\n",
    "print('Rendre', cent_amount // quarter, 'quarters')\n",
    "cent_amount = cent_amount % quarter\n",
    "\n",
    "print('Rendre', cent_amount // dime, 'dimes')\n",
    "cent_amount = cent_amount % dime\n",
    "\n",
    "print(cent_amount // nickel, 'nickels')\n",
    "cent_amount = cent_amount % nickel\n",
    "\n",
    "print('Rendre', cent_amount, 'pennies')"
   ]
  },
  {
   "cell_type": "code",
   "execution_count": null,
   "metadata": {},
   "outputs": [],
   "source": []
  },
  {
   "cell_type": "markdown",
   "metadata": {},
   "source": [
    "Decision Making"
   ]
  },
  {
   "cell_type": "code",
   "execution_count": 2,
   "metadata": {},
   "outputs": [
    {
     "name": "stdout",
     "output_type": "stream",
     "text": [
      "C'est un nombre impair.\n"
     ]
    }
   ],
   "source": [
    "#Ex 35\n",
    "number = int(input('Entrer un nombre entier: '))\n",
    "\n",
    "if number % 2 == 0:\n",
    "    result = 'nombre pair.'\n",
    "else:\n",
    "    result = 'nombre impair.'\n",
    "\n",
    "print('C\\'est un', result)"
   ]
  },
  {
   "cell_type": "code",
   "execution_count": 18,
   "metadata": {},
   "outputs": [
    {
     "name": "stdout",
     "output_type": "stream",
     "text": [
      "Zéro ne peut pas être converti\n"
     ]
    }
   ],
   "source": [
    "#Ex 36\n",
    "year = int(input('Entrer le nombre d\\'années par un nombre entier: '))\n",
    "\n",
    "if year <= 2 and year > 0:\n",
    "    print('En année de chien, cela fait', '%d' % (year * 10.5))\n",
    "elif year > 2:\n",
    "    print('En année de chien, cela fait', (year * 4) - 8 + 21) #on retire 8 et ajoute 21 pour les 2 premières années.\n",
    "elif year < 0:\n",
    "    print('Erreur: Vous avez entré un nombre négatif')\n",
    "else:\n",
    "    print('Zéro ne peut pas être converti')"
   ]
  },
  {
   "cell_type": "code",
   "execution_count": 25,
   "metadata": {},
   "outputs": [
    {
     "name": "stdout",
     "output_type": "stream",
     "text": [
      "La lettre A est une voyelle\n"
     ]
    }
   ],
   "source": [
    "#Ex 38\n",
    "lettre = input('Spécifier une lettre de l\\'alphabet: ')\n",
    "\n",
    "if lettre == 'a' or lettre == 'e' or lettre == 'i' or lettre == 'o' or lettre == 'u':\n",
    "    print('La lettre', lettre, 'est une voyelle')\n",
    "elif lettre == 'A' or lettre == 'E' or lettre == 'I' or lettre == 'O' or lettre == 'U':\n",
    "    print('La lettre', lettre, 'est une voyelle')\n",
    "elif lettre == 'y' or lettre == 'Y':\n",
    "    print('La lettre', lettre, 'est parfois une voyelle et parfois une consonne')\n",
    "else:\n",
    "    print('La lettre', lettre, 'est une consonne')"
   ]
  },
  {
   "cell_type": "code",
   "execution_count": 30,
   "metadata": {},
   "outputs": [
    {
     "name": "stdout",
     "output_type": "stream",
     "text": [
      "La fréquence en Hz est:  523.26\n"
     ]
    }
   ],
   "source": [
    "#Ex 42\n",
    "note = input('Entrer la note souhaitée: ')\n",
    "octave = int(input('Entrer l\\'octave désirée: '))\n",
    "\n",
    "if note == 'C':\n",
    "    print('La fréquence en Hz est: ', 261.63 / 2**(4-octave))\n",
    "elif note == 'D':\n",
    "    print('La fréquence en Hz est: ', 293.66 / 2**(4-octave))\n",
    "elif note == 'E':\n",
    "    print('La fréquence en Hz est: ', 329.63 / 2**(4-octave))\n",
    "elif note == 'F':\n",
    "    print('La fréquence en Hz est: ', 349.23 / 2**(4-octave))\n",
    "elif note == 'G':\n",
    "    print('La fréquence en Hz est: ', 392.00 / 2**(4-octave))\n",
    "elif note == 'A':\n",
    "    print('La fréquence en Hz est: ', 440.00 / 2**(4-octave))\n",
    "elif note == 'B':\n",
    "    print('La fréquence en Hz est: ', 493.88 / 2**(4-octave))\n"
   ]
  },
  {
   "cell_type": "code",
   "execution_count": 43,
   "metadata": {},
   "outputs": [
    {
     "name": "stdout",
     "output_type": "stream",
     "text": [
      "white\n"
     ]
    }
   ],
   "source": [
    "#Ex 46\n",
    "position = input('Renseigner votre position sur le plateau: ')\n",
    "\n",
    "row = int(position[1])\n",
    "column = position[0]\n",
    "\n",
    "if column == 'a' or column == 'c' or column == 'e' or column == 'g':\n",
    "    if row == 1 or row == 3 or row == 5 or row == 7:\n",
    "        color = 'black' \n",
    "    else:\n",
    "        color = 'white'\n",
    "elif column == 'b' or column == 'd' or column == 'f' or column == 'h':\n",
    "    if row == 1 or row == 3 or row == 5 or row == 7:\n",
    "        color = 'white' \n",
    "    else:\n",
    "        color = 'black'\n",
    "\n",
    "print(color)\n"
   ]
  },
  {
   "cell_type": "code",
   "execution_count": 52,
   "metadata": {},
   "outputs": [
    {
     "name": "stdout",
     "output_type": "stream",
     "text": [
      "Votre case est noire\n"
     ]
    }
   ],
   "source": [
    "#Ex 46 Meilleure solution\n",
    "\n",
    "position = input('Renseigner votre position sur le plateau: ')\n",
    "\n",
    "row = int(position[1])\n",
    "column = position[0]\n",
    " \n",
    "letters = 'abcdefgh'\n",
    "column = letters.find(column)\n",
    "\n",
    "if (row + column) % 2 == 1:\n",
    "    print('Votre case est noire')\n",
    "else:\n",
    "    print('Votre case est blanche')"
   ]
  },
  {
   "cell_type": "code",
   "execution_count": null,
   "metadata": {},
   "outputs": [],
   "source": []
  },
  {
   "cell_type": "markdown",
   "metadata": {},
   "source": [
    "Repetitions"
   ]
  },
  {
   "cell_type": "code",
   "execution_count": 99,
   "metadata": {},
   "outputs": [
    {
     "name": "stdout",
     "output_type": "stream",
     "text": [
      "['1', '2', '3']\n",
      "La moyenne de cette série est:  2.0\n"
     ]
    }
   ],
   "source": [
    "#Ex 63\n",
    "\n",
    "values = input('Entrez une série de nombres entiers séparé d\\'un point virgule et en finissant par 0: ').split(';')\n",
    "avg = 0\n",
    "l = len(values)\n",
    "print(values)\n",
    "\n",
    "liste =[]\n",
    "for value in values:\n",
    "    if value == '0':\n",
    "        break\n",
    "    liste.append(int(value))\n",
    "\n",
    "avg = sum(liste) / l\n",
    "\n",
    "print('La moyenne de cette série est: ', avg)"
   ]
  },
  {
   "cell_type": "code",
   "execution_count": 161,
   "metadata": {},
   "outputs": [
    {
     "name": "stdout",
     "output_type": "stream",
     "text": [
      "Prix d'origine:  04.95 |Réduction de  1.98 |Prix réduit:  2.97\n",
      "Prix d'origine:  09.95 |Réduction de  3.98 |Prix réduit:  5.97\n",
      "Prix d'origine:  14.95 |Réduction de  5.98 |Prix réduit:  8.97\n",
      "Prix d'origine:  19.95 |Réduction de  7.98 |Prix réduit:  11.97\n",
      "Prix d'origine:  24.95 |Réduction de  9.98 |Prix réduit:  14.97\n"
     ]
    }
   ],
   "source": [
    "#Ex 64\n",
    "original_price = [4.95, 9.95, 14.95, 19.95, 24.95]\n",
    "\n",
    "\n",
    "for price in original_price:\n",
    "    \n",
    "    discount = price * 0.4\n",
    "    discount_price = price * 0.6\n",
    "\n",
    "    print('Prix d\\'origine: ', f\"{price:05}\", '|Réduction de ', '%.2f' % discount, '|Prix réduit: ', '%.2f' % discount_price) \n",
    "\n",
    "    #f-string utilisé pour aligner les colonnes\n"
   ]
  },
  {
   "cell_type": "code",
   "execution_count": 160,
   "metadata": {},
   "outputs": [
    {
     "name": "stdout",
     "output_type": "stream",
     "text": [
      "32.0\n",
      "50.0\n",
      "68.0\n",
      "86.0\n",
      "104.0\n",
      "122.0\n",
      "140.0\n",
      "158.0\n",
      "176.0\n",
      "194.0\n",
      "212.0\n",
      "[0, 10, 20, 30, 40, 50, 60, 70, 80, 90, 100]\n"
     ]
    }
   ],
   "source": [
    "celsius = [0, 10, 20, 30, 40, 50, 60, 70, 80, 90, 100]\n",
    "\n",
    "for temp in celsius:\n",
    "    fahrenheit = (temp * 9/5) + 32\n",
    "    print(fahrenheit)\n",
    "\n",
    "print(celsius)"
   ]
  },
  {
   "cell_type": "code",
   "execution_count": null,
   "metadata": {},
   "outputs": [],
   "source": []
  },
  {
   "cell_type": "markdown",
   "metadata": {},
   "source": [
    "Lists"
   ]
  },
  {
   "cell_type": "code",
   "execution_count": 7,
   "metadata": {},
   "outputs": [
    {
     "name": "stdout",
     "output_type": "stream",
     "text": [
      "[1, 2, 3, 4, 5, 6, 7, 8, 9]\n"
     ]
    }
   ],
   "source": [
    "#Ex 110\n",
    "\n",
    "value = int(input('Entrer un nombre entier (0 pour sortir): '))\n",
    "\n",
    "\n",
    "list = []\n",
    "while value != 0:\n",
    "    list.append(value)\n",
    "    value = int(input('Entrer un nombre entier (0 pour sortir): '))\n",
    "\n",
    "list.sort()\n",
    "print(list)"
   ]
  },
  {
   "cell_type": "code",
   "execution_count": 18,
   "metadata": {},
   "outputs": [
    {
     "name": "stdout",
     "output_type": "stream",
     "text": [
      "La liste rangée et triée est: [2.0, 3.0, 4.0]\n",
      "Liste originelle:  [1.0, 2.0, 3.0, 4.0, 5.0, 6.0, 0.0]\n"
     ]
    }
   ],
   "source": [
    "#Ex 112\n",
    "\n",
    "def remover(données, donnée_retirée):\n",
    "\n",
    "    données_sorted = sorted(données)\n",
    "\n",
    "    for i in range(donnée_retirée):\n",
    "        données_sorted.pop()\n",
    "        données_sorted.pop(0)\n",
    "\n",
    "    return données_sorted\n",
    "\n",
    "\n",
    "valeur = input('Entrer une donnée (entrer du vide pour arrêter): ')\n",
    "\n",
    "liste = []\n",
    "while valeur != '':\n",
    "    donnée = float(valeur)\n",
    "    liste.append(donnée)\n",
    "    valeur = input('Entrer une donnée (entrer du vide pour arrêter): ')\n",
    "\n",
    "if len(liste) < 4:\n",
    "    print('Vous n\\'avez pas rentré suffisamment de données.')\n",
    "else:\n",
    "    print('La liste rangée et triée est:', remover(liste, 2))\n",
    "    print('Liste originelle: ', liste)\n"
   ]
  },
  {
   "cell_type": "code",
   "execution_count": 33,
   "metadata": {},
   "outputs": [
    {
     "name": "stdout",
     "output_type": "stream",
     "text": [
      "main\n",
      "pain\n",
      "mot\n"
     ]
    }
   ],
   "source": [
    "#Ex 113\n",
    "\n",
    "words = input('Entrer un mot (Vide pour arrêter): ')\n",
    "\n",
    "\n",
    "liste_words = []\n",
    "while words != '':\n",
    "    if words not in liste_words:\n",
    "        liste_words.append(words)\n",
    "    words = input('Entrer un mot (Vide pour arrêter): ')\n",
    "\n",
    "for words in liste_words:\n",
    "    print(words)"
   ]
  },
  {
   "cell_type": "code",
   "execution_count": 57,
   "metadata": {},
   "outputs": [
    {
     "name": "stdout",
     "output_type": "stream",
     "text": [
      "-1\n",
      "-2\n",
      "0\n",
      "0\n",
      "1\n",
      "2\n"
     ]
    }
   ],
   "source": [
    "#Ex 114\n",
    "\n",
    "numbers = input('Entrer un nombre entier positif ou négatif (vide pour arrêter): ')\n",
    "\n",
    "negative = []\n",
    "neutral = []\n",
    "positive = []\n",
    "while numbers != '':\n",
    "    converted = int(numbers)\n",
    "    if converted > 0:\n",
    "        positive.append(converted)\n",
    "        numbers = input('Entrer un nombre entier positif ou négatif (vide pour arrêter): ')\n",
    "    elif converted < 0:\n",
    "        negative.append(converted)\n",
    "        numbers = input('Entrer un nombre entier positif ou négatif (vide pour arrêter): ')\n",
    "    elif converted == 0:\n",
    "        neutral.append(converted)\n",
    "        numbers = input('Entrer un nombre entier positif ou négatif (vide pour arrêter): ')\n",
    "\n",
    "\n",
    "for value in negative:\n",
    "    print(value)\n",
    "for value in neutral:\n",
    "    print(value)\n",
    "for value in positive:\n",
    "    print(value)"
   ]
  },
  {
   "cell_type": "code",
   "execution_count": null,
   "metadata": {},
   "outputs": [],
   "source": []
  },
  {
   "cell_type": "markdown",
   "metadata": {},
   "source": [
    "Dictionnaries"
   ]
  },
  {
   "cell_type": "code",
   "execution_count": 91,
   "metadata": {},
   "outputs": [
    {
     "name": "stdout",
     "output_type": "stream",
     "text": [
      "8\n"
     ]
    }
   ],
   "source": [
    "#Ex 145\n",
    "\n",
    "scrabble = {'A': 1,'E': 1, 'I': 1, 'L': 1, 'N': 1,'O': 1, 'R': 1,'S': 1, 'T': 1, 'U': 1, \n",
    "            'D': 2, 'G': 2, 'B': 3, 'C': 3, 'M': 3, 'P': 3,\n",
    "              'F': 4, 'H': 4, 'V': 4, 'W': 4, 'Y': 4,\n",
    "                'K': 5, 'J': 8, 'X': 8, 'Q': 10, 'Z': 10}\n",
    "\n",
    "word = input('Entrer un mot: ').upper()\n",
    "\n",
    "score = 0\n",
    "for letter in word:\n",
    "      score += scrabble[letter]\n",
    "\n",
    "\n",
    "print(score)"
   ]
  },
  {
   "cell_type": "code",
   "execution_count": 96,
   "metadata": {},
   "outputs": [
    {
     "name": "stdout",
     "output_type": "stream",
     "text": [
      "Votre score pour Python est:  14\n"
     ]
    }
   ],
   "source": [
    "#Ex 145\n",
    "\n",
    "point1 = ['A','E','I','L','N','O','R','S','T','U']\n",
    "point2 = ['D','G']\n",
    "point3 = ['B','C','M','P']\n",
    "point4 = ['F','H','V','W','Y']\n",
    "point5 = ['K']\n",
    "point8 = ['J','X']\n",
    "point10= ['Q','Z']\n",
    "\n",
    "scrabble = {1: point1, 2: point2, 3: point3, 4: point4, 5: point5, 8: point8, 10: point10}\n",
    "\n",
    "word = input('Entrer un mot: ').upper()\n",
    "\n",
    "score = 0\n",
    "for letter in word:\n",
    "    for key in scrabble.keys():\n",
    "        if letter in scrabble[key]:\n",
    "            score += key\n",
    "\n",
    "\n",
    "print('Votre score pour', word.capitalize(),  'est: ', score)"
   ]
  },
  {
   "cell_type": "code",
   "execution_count": null,
   "metadata": {},
   "outputs": [],
   "source": []
  }
 ],
 "metadata": {
  "kernelspec": {
   "display_name": "Python 3",
   "language": "python",
   "name": "python3"
  },
  "language_info": {
   "codemirror_mode": {
    "name": "ipython",
    "version": 3
   },
   "file_extension": ".py",
   "mimetype": "text/x-python",
   "name": "python",
   "nbconvert_exporter": "python",
   "pygments_lexer": "ipython3",
   "version": "3.13.0"
  }
 },
 "nbformat": 4,
 "nbformat_minor": 2
}
